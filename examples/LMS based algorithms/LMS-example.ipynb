{
 "cells": [
  {
   "cell_type": "markdown",
   "id": "a54f6e46-92d7-4a30-b33b-da014a1afd1e",
   "metadata": {},
   "source": [
    "# Example system: LMS"
   ]
  },
  {
   "cell_type": "code",
   "execution_count": null,
   "id": "751e2871-4429-4ee6-a1e6-8bd5b5022ac9",
   "metadata": {},
   "outputs": [],
   "source": [
    "import numpy as np\n",
    "import matplotlib.pyplot as plt\n",
    "\n",
    "import pydaptivefiltering as pdf"
   ]
  },
  {
   "cell_type": "code",
   "execution_count": null,
   "id": "928ab59a-dafc-49dc-9718-38e20dc671fe",
   "metadata": {},
   "outputs": [],
   "source": [
    "def complex_randn(n):\n",
    "    \"\"\"\n",
    "    Return a length-`n` vector of iid complex samples X with E|X|^2=1\n",
    "    \"\"\"\n",
    "    return (np.random.randn(n) + np.random.randn(n)*1j) / np.sqrt(2)"
   ]
  },
  {
   "cell_type": "markdown",
   "id": "97bf3332-459a-42d2-a4cc-2fc7a31b65e9",
   "metadata": {},
   "source": [
    "__Types__\n",
    "\n",
    "`None -> '(Filter, dictionary[\"outputs\", \"errors\", \"coefficients\"])'`\n",
    "\n",
    "Example for the LMS algorithm, SignData and SignError."
   ]
  },
  {
   "cell_type": "markdown",
   "id": "8b161bda-62c2-4ebc-8c6f-b3f2dbf30a1a",
   "metadata": {},
   "source": [
    "## Parameters"
   ]
  },
  {
   "cell_type": "markdown",
   "id": "e4dee04b-82fb-4238-8690-c218990571e3",
   "metadata": {},
   "source": [
    "Number of iterations:"
   ]
  },
  {
   "cell_type": "code",
   "execution_count": null,
   "id": "1e30d154-2041-47b8-86ba-a4d4d23021b4",
   "metadata": {},
   "outputs": [],
   "source": [
    "K = 500\n",
    "H = np.array([0.32+0.21*1j, -0.3+0.7*1j, 0.5-0.8*1j, 0.2+0.5*1j])"
   ]
  },
  {
   "cell_type": "markdown",
   "id": "8cbc7000-3f80-46d3-9e09-eb42828a421b",
   "metadata": {},
   "source": [
    "Unknown system:"
   ]
  },
  {
   "cell_type": "code",
   "execution_count": null,
   "id": "067e2ade-074e-4644-af51-96d510b236db",
   "metadata": {},
   "outputs": [],
   "source": [
    "Wo = H"
   ]
  },
  {
   "cell_type": "markdown",
   "id": "8b75f968-8de1-4461-956d-3f935efc3524",
   "metadata": {},
   "source": [
    "Noise power:"
   ]
  },
  {
   "cell_type": "code",
   "execution_count": null,
   "id": "d68464f1-2f11-4dff-ab93-e87a5755b748",
   "metadata": {},
   "outputs": [],
   "source": [
    "sigman2 = 0.04"
   ]
  },
  {
   "cell_type": "markdown",
   "id": "713ea452-28fd-40ed-ab49-53c408ab4f15",
   "metadata": {},
   "source": [
    "No. of coefficients of the adaptive filter:"
   ]
  },
  {
   "cell_type": "code",
   "execution_count": null,
   "id": "a351ce49-1a83-4511-a492-aa5ebd650f76",
   "metadata": {},
   "outputs": [],
   "source": [
    "N = 4"
   ]
  },
  {
   "cell_type": "markdown",
   "id": "b7ab1343-bf56-486f-b805-f2c093233cf6",
   "metadata": {},
   "source": [
    "Convergence factor (step) ($0 < \\mu < 1$)"
   ]
  },
  {
   "cell_type": "code",
   "execution_count": null,
   "id": "89ff7f5e-9af7-4c38-840b-1d3cc3d47afa",
   "metadata": {},
   "outputs": [],
   "source": [
    "step = 0.002"
   ]
  },
  {
   "cell_type": "markdown",
   "id": "1f91edbd-3909-4b82-a280-488b7208c078",
   "metadata": {},
   "source": [
    "Tolerance: If $\\left|\\mbox{error}\\right| < \\mbox{tol}$, stops at the current run."
   ]
  },
  {
   "cell_type": "code",
   "execution_count": null,
   "id": "43937800-f624-41e0-9f11-7ffc1d9721e9",
   "metadata": {},
   "outputs": [],
   "source": [
    "tol = 0.0"
   ]
  },
  {
   "cell_type": "markdown",
   "id": "07b61b47-57de-4dd8-9d16-0ee7ea5046e5",
   "metadata": {},
   "source": [
    "## Initializing"
   ]
  },
  {
   "cell_type": "code",
   "execution_count": null,
   "id": "2823fad3-65e5-43fc-9b60-521e4f793b01",
   "metadata": {},
   "outputs": [],
   "source": [
    "W = np.ones(shape=(N, K+1))"
   ]
  },
  {
   "cell_type": "code",
   "execution_count": null,
   "id": "9e83031f-5cc3-4e37-b7b2-ca1d0da016db",
   "metadata": {},
   "outputs": [],
   "source": [
    "x = complex_randn(K)"
   ]
  },
  {
   "cell_type": "markdown",
   "id": "87afa9b5-6bad-41d4-872f-176cb2f421d4",
   "metadata": {},
   "source": [
    "Complex noise:"
   ]
  },
  {
   "cell_type": "code",
   "execution_count": null,
   "id": "76e48183-7aff-4421-8de6-f114bdd95620",
   "metadata": {},
   "outputs": [],
   "source": [
    "n = np.sqrt(sigman2) * complex_randn(K)\n",
    "d = np.convolve(Wo.conj(), x)[:K]"
   ]
  },
  {
   "cell_type": "markdown",
   "id": "1872a9a6-297d-4f95-9c7c-01e0d4cb8fb9",
   "metadata": {},
   "source": [
    "Desired signal:"
   ]
  },
  {
   "cell_type": "code",
   "execution_count": null,
   "id": "1e65c8ea-7d18-4fec-8d60-9887fcbba2fc",
   "metadata": {},
   "outputs": [],
   "source": [
    "d += n"
   ]
  },
  {
   "cell_type": "markdown",
   "id": "3a1dd0b5-ebee-4dfc-bb3f-83ca9b991836",
   "metadata": {},
   "source": [
    "## Instanciating `AdaptiveFilter`"
   ]
  },
  {
   "cell_type": "code",
   "execution_count": null,
   "id": "73b074a3-31bf-4b6e-ae2c-9db329ada5a4",
   "metadata": {},
   "outputs": [],
   "source": [
    "Filter = pdf.AdaptiveFilter(W[:, 1])"
   ]
  },
  {
   "cell_type": "markdown",
   "id": "6a835cdf-bf1f-4378-8478-a3dbe91bb1d9",
   "metadata": {},
   "source": [
    "### LMS"
   ]
  },
  {
   "cell_type": "code",
   "execution_count": null,
   "id": "20147fc2-84a1-4b36-ad8c-7987e0cb923c",
   "metadata": {},
   "outputs": [],
   "source": [
    "Output = pdf.LMS.LMS(Filter, d, x, step, tolerance=tol)"
   ]
  },
  {
   "cell_type": "code",
   "execution_count": null,
   "id": "90cdf08c-c2fa-4ad8-beef-214762d62bff",
   "metadata": {},
   "outputs": [],
   "source": [
    "plt.figure(figsize=(20,6))\n",
    "plt.plot(d.real[:50], label='desired')\n",
    "plt.plot(Output[\"outputs\"].real[:50], label='output')\n",
    "plt.legend();"
   ]
  },
  {
   "cell_type": "markdown",
   "id": "b56ecaba-59fd-4640-b3e2-ae4a5646a559",
   "metadata": {},
   "source": [
    "Coefficients:"
   ]
  },
  {
   "cell_type": "code",
   "execution_count": null,
   "id": "45d75915-c955-452c-be09-172c6f7affca",
   "metadata": {},
   "outputs": [],
   "source": [
    "coefs = np.array(Output[\"coefficients\"])"
   ]
  },
  {
   "cell_type": "code",
   "execution_count": null,
   "id": "62825baf-3c9c-48be-9a78-3e5a6885706f",
   "metadata": {},
   "outputs": [],
   "source": [
    "plt.figure(figsize=(20,6))\n",
    "plt.plot(coefs.real)\n",
    "for i, h in enumerate(H):\n",
    "    plt.axhline(h.real, color=f'C{i}', linestyle=\":\")\n",
    "plt.grid();"
   ]
  },
  {
   "cell_type": "code",
   "execution_count": null,
   "id": "aaf7d7c5-9b77-4e97-a9a5-2215d4f7212d",
   "metadata": {},
   "outputs": [],
   "source": [
    "system_distance = np.linalg.norm(coefs - H, axis=1)"
   ]
  },
  {
   "cell_type": "code",
   "execution_count": null,
   "id": "42058f2c-efff-4c33-9752-a8c08f4a219b",
   "metadata": {},
   "outputs": [],
   "source": [
    "plt.figure(figsize=(20,6))\n",
    "plt.semilogy(system_distance)\n",
    "plt.grid();"
   ]
  }
 ],
 "metadata": {
  "kernelspec": {
   "display_name": "Python 3 (ipykernel)",
   "language": "python",
   "name": "python3"
  },
  "language_info": {
   "codemirror_mode": {
    "name": "ipython",
    "version": 3
   },
   "file_extension": ".py",
   "mimetype": "text/x-python",
   "name": "python",
   "nbconvert_exporter": "python",
   "pygments_lexer": "ipython3",
   "version": "3.9.7"
  }
 },
 "nbformat": 4,
 "nbformat_minor": 5
}
