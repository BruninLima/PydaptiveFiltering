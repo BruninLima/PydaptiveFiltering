{
 "cells": [
  {
   "cell_type": "markdown",
   "id": "a54f6e46-92d7-4a30-b33b-da014a1afd1e",
   "metadata": {
    "tags": []
   },
   "source": [
    "## Example: System Identification\n",
    "\n",
    "In this example we have a typical system identification scenario. We want\n",
    "to estimate the filter coefficients of an unknown system given by Wo. In     \n",
    "order to accomplish this task we use an adaptive filter with the same\n",
    "number of coefficients, N, as the unkown system. The procedure is:         \n",
    "\n",
    "- Excitate both filters (the unknown and the adaptive) with the signal x. In this case, x is chosen according to the 4-QAM constellation. The variance of x is normalized to 1.\n",
    "- Generate the desired signal, d = Wo' x + n, which is the output of the unknown system considering some disturbance (noise) in the model. The noise power is given by sigma_n2.\n",
    "- Choose an adaptive filtering algorithm to govern the rules of coefficient updating.     \n",
    "\n",
    "\n",
    "##### Adaptive Algorithm used here: LMS     "
   ]
  },
  {
   "cell_type": "code",
   "execution_count": 8,
   "id": "751e2871-4429-4ee6-a1e6-8bd5b5022ac9",
   "metadata": {},
   "outputs": [],
   "source": [
    "#imports\n",
    "import numpy as np\n",
    "import matplotlib.pyplot as plt\n",
    "import pydaptivefiltering as pdf"
   ]
  },
  {
   "cell_type": "code",
   "execution_count": 2,
   "id": "928ab59a-dafc-49dc-9718-38e20dc671fe",
   "metadata": {},
   "outputs": [],
   "source": [
    "# Aux Functions\n",
    "def complex_randn(n: int) -> np.array:\n",
    "    \"\"\"\n",
    "    Return a length-`n` vector of iid complex samples X with E|X|^2=1\n",
    "    \"\"\"\n",
    "    return (np.random.randn(n) + np.random.randn(n)*1j) / np.sqrt(2)"
   ]
  },
  {
   "cell_type": "markdown",
   "id": "8b161bda-62c2-4ebc-8c6f-b3f2dbf30a1a",
   "metadata": {
    "tags": []
   },
   "source": [
    "## Parameters and Initialization"
   ]
  },
  {
   "cell_type": "code",
   "execution_count": 3,
   "id": "eee8ad93",
   "metadata": {},
   "outputs": [],
   "source": [
    "K = 70                 # Number of iterations\n",
    "H = np.array([0.32+0.21*1j, -0.3+0.7*1j, 0.5-0.8*1j, 0.2+0.5*1j])\n",
    "Wo = H                  # Uknown System\n",
    "sigman2 = 0.04          # Noise Power\n",
    "N = 4                   # Number of coefficients of the adaptative filter\n",
    "mu = 0.1                # Convergence factor (step) (0 < μ < 1)\n",
    "\n",
    "W = np.ones(shape=(N, K+1))\n",
    "X = np.zeros(N) # Input at a certain iteration (tapped delay line)\n",
    "x = complex_randn(K)\n",
    "# complex noise\n",
    "n = np.sqrt(sigman2/2) * (np.random.randn(K) +\n",
    "                          np.random.randn(K)*1j)"
   ]
  },
  {
   "cell_type": "markdown",
   "id": "3027dced",
   "metadata": {},
   "source": [
    "### desired signal"
   ]
  },
  {
   "cell_type": "code",
   "execution_count": 5,
   "id": "78036c04",
   "metadata": {},
   "outputs": [],
   "source": [
    "d = []    \n",
    "\n",
    "for k in range(K):\n",
    "\n",
    "    X = np.concatenate(([x[k]], X))[:N]   \n",
    "    d.append(np.dot(Wo.conj(), X))\n",
    "    \n",
    "d = np.array(d) + n   "
   ]
  },
  {
   "cell_type": "markdown",
   "id": "2798d8d4",
   "metadata": {},
   "source": [
    "### Istanciating Adaptive Filter"
   ]
  },
  {
   "cell_type": "code",
   "execution_count": 6,
   "id": "dc0f4344",
   "metadata": {},
   "outputs": [],
   "source": [
    "Filter = pdf.AdaptiveFilter(W[:, 1])"
   ]
  },
  {
   "cell_type": "markdown",
   "id": "a9b728bd",
   "metadata": {},
   "source": [
    "### Adapting with the LMS Algorithm   "
   ]
  },
  {
   "cell_type": "code",
   "execution_count": 7,
   "id": "1a857ecf",
   "metadata": {},
   "outputs": [
    {
     "ename": "AttributeError",
     "evalue": "module 'pydaptivefiltering' has no attribute 'LMS'",
     "output_type": "error",
     "traceback": [
      "\u001b[1;31m---------------------------------------------------------------------------\u001b[0m",
      "\u001b[1;31mAttributeError\u001b[0m                            Traceback (most recent call last)",
      "\u001b[1;32m<ipython-input-7-9989d0d98940>\u001b[0m in \u001b[0;36m<module>\u001b[1;34m\u001b[0m\n\u001b[1;32m----> 1\u001b[1;33m \u001b[0mOutput\u001b[0m \u001b[1;33m=\u001b[0m \u001b[0mpdf\u001b[0m\u001b[1;33m.\u001b[0m\u001b[0mLMS\u001b[0m\u001b[1;33m.\u001b[0m\u001b[0mLMS\u001b[0m\u001b[1;33m(\u001b[0m\u001b[0mFilter\u001b[0m\u001b[1;33m,\u001b[0m \u001b[0md\u001b[0m\u001b[1;33m,\u001b[0m \u001b[0mx\u001b[0m\u001b[1;33m,\u001b[0m \u001b[0mmu\u001b[0m\u001b[1;33m)\u001b[0m\u001b[1;33m\u001b[0m\u001b[1;33m\u001b[0m\u001b[0m\n\u001b[0m\u001b[0;32m      2\u001b[0m \u001b[1;31m# Running the model\u001b[0m\u001b[1;33m\u001b[0m\u001b[1;33m\u001b[0m\u001b[1;33m\u001b[0m\u001b[0m\n\u001b[0;32m      3\u001b[0m \u001b[0mFilter\u001b[0m\u001b[1;33m,\u001b[0m \u001b[0mOutput\u001b[0m\u001b[1;33m,\u001b[0m \u001b[0mComplexNoise\u001b[0m \u001b[1;33m=\u001b[0m \u001b[0mLMS_example\u001b[0m\u001b[1;33m(\u001b[0m\u001b[1;33m)\u001b[0m\u001b[1;33m\u001b[0m\u001b[1;33m\u001b[0m\u001b[0m\n",
      "\u001b[1;31mAttributeError\u001b[0m: module 'pydaptivefiltering' has no attribute 'LMS'"
     ]
    }
   ],
   "source": [
    "Output = pdf.LMS.LMS(Filter, d, x, mu)\n",
    "# Running the model\n",
    "Filter, Output, ComplexNoise = LMS_example()"
   ]
  },
  {
   "cell_type": "markdown",
   "id": "6c8d3b3b",
   "metadata": {},
   "source": [
    "## Plotting"
   ]
  },
  {
   "cell_type": "code",
   "execution_count": null,
   "id": "48b87b98",
   "metadata": {},
   "outputs": [],
   "source": [
    "plt.figure(figsize=(16, 16)) \n",
    "\n",
    "plt.subplot(221)\n",
    "plt.gca().set_title('Learning Curve for MSE [dB]')\n",
    "MSE = [abs(err)**2 for err in Output['errors']]\n",
    "plt.gca().semilogy(MSE)\n",
    "\n",
    "plt.subplot(222)\n",
    "plt.gca().set_title('Learning Curve for MSEmin [dB]')\n",
    "MSEmin = [abs(n)**2 for n in ComplexNoise]\n",
    "plt.gca().semilogy(MSEmin)\n",
    "\n",
    "plt.subplot(223)\n",
    "plt.gca().set_title('Evolution of the Coefficients (Real Part)')\n",
    "real_part = [coef.real for coef in Output['coefficients']]\n",
    "plt.gca().plot(real_part)\n",
    "\n",
    "plt.subplot(224)\n",
    "plt.gca().set_title('Evolution of the Coefficients (Imaginary Part)')\n",
    "imag_part = [coef.imag for coef in Output['coefficients']]\n",
    "plt.gca().plot(imag_part)\n",
    "\n",
    "plt.tight_layout(pad = 4.0)\n",
    "plt.grid();"
   ]
  },
  {
   "cell_type": "code",
   "execution_count": null,
   "id": "90cdf08c-c2fa-4ad8-beef-214762d62bff",
   "metadata": {},
   "outputs": [],
   "source": [
    "plt.figure(figsize=(20,6))\n",
    "plt.plot(d.real[:50], label='desired')\n",
    "plt.plot(Output[\"outputs\"].real[:50], label='output')\n",
    "plt.legend();"
   ]
  }
 ],
 "metadata": {
  "kernelspec": {
   "display_name": "Python 3",
   "language": "python",
   "name": "python3"
  },
  "language_info": {
   "codemirror_mode": {
    "name": "ipython",
    "version": 3
   },
   "file_extension": ".py",
   "mimetype": "text/x-python",
   "name": "python",
   "nbconvert_exporter": "python",
   "pygments_lexer": "ipython3",
   "version": "3.8.5"
  }
 },
 "nbformat": 4,
 "nbformat_minor": 5
}
